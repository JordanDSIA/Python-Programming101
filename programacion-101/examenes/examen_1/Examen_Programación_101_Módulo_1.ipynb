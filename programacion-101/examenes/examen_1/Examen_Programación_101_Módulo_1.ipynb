{
  "nbformat": 4,
  "nbformat_minor": 0,
  "metadata": {
    "colab": {
      "provenance": [],
      "include_colab_link": true
    },
    "kernelspec": {
      "name": "python3",
      "display_name": "Python 3"
    },
    "language_info": {
      "name": "python"
    }
  },
  "cells": [
    {
      "cell_type": "markdown",
      "metadata": {
        "id": "view-in-github",
        "colab_type": "text"
      },
      "source": [
        "<a href=\"https://colab.research.google.com/github/JordanDSIA/Python-Programming101/blob/main/programacion-101/examenes/examen_1/Examen_Programaci%C3%B3n_101_M%C3%B3dulo_1.ipynb\" target=\"_parent\"><img src=\"https://colab.research.google.com/assets/colab-badge.svg\" alt=\"Open In Colab\"/></a>"
      ]
    },
    {
      "cell_type": "markdown",
      "source": [
        "<img src=\"https://posgrado.utec.edu.pe/sites/default/files/2023-08/Testimonial-home-2.jpg\" alt=\"HTML5 Icon\" width=\"900\" height=\"250\" >\n"
      ],
      "metadata": {
        "id": "ub41hbIV6UQ6"
      }
    },
    {
      "cell_type": "markdown",
      "source": [
        "#**Examen Programación 101 – Módulo 1**\n"
      ],
      "metadata": {
        "id": "zpZSxKDI51_7"
      }
    },
    {
      "cell_type": "markdown",
      "source": [
        "**Contexto**\n",
        "\n",
        "Estás colaborando en el diseño de un sistema básico de autenticación y validación de datos para una empresa tecnológica en expansión. El sistema debe realizar verificaciones fundamentales sobre usuarios, contraseñas, códigos de acceso e identificadores, utilizando únicamente estructuras condicionales y operaciones básicas, dado que el prototipo está pensado para funcionar en dispositivos con capacidad de cómputo muy limitada.\n",
        "\n",
        "Cada pregunta del examen representa uno de los desafíos que debes resolver en este sistema: desde validar un código, clasificar niveles de acceso, hasta verificar si una entrada cumple con múltiples criterios simultáneamente."
      ],
      "metadata": {
        "id": "qphDGB6eAe-K"
      }
    },
    {
      "cell_type": "markdown",
      "source": [
        "\n",
        "\n",
        "**Nombre y Apellido:**\n",
        "\n",
        "---"
      ],
      "metadata": {
        "id": "_MYFZY5D97r5"
      }
    },
    {
      "cell_type": "markdown",
      "source": [
        "Duración: 45 minutos\n",
        "\n",
        "**Instrucciones**\n",
        "\n",
        "1. No está permitido el uso de funciones (def), bucles (for, while)\n",
        "\n",
        "2. Puedes utilizar:\n",
        "\n",
        "  * Asignación de variables\n",
        "  * Operadores aritméticos y lógicos\n",
        "  * Condicionales (if, elif, else)\n",
        "  * Funciones input() y print()\n",
        "\n",
        "3. Se evaluará no solo la respuesta correcta, sino también la claridad, buenas prácticas, uso correcto de tipos de datos y estructura lógica.\n",
        "\n",
        "---"
      ],
      "metadata": {
        "id": "VInsS6-u7MUH"
      }
    },
    {
      "cell_type": "markdown",
      "source": [
        "**Pregunta 1: Validación de Usuario**\n"
      ],
      "metadata": {
        "id": "xVGPY6H68IO_"
      }
    },
    {
      "cell_type": "markdown",
      "source": [
        "Escribe un programa que valide un usuario según estas reglas:\n",
        "\n",
        "* El usuario debe tener exactamente 5 caracteres.\n",
        "* El primer carácter debe ser mayúscula.\n",
        "* El último carácter debe ser un número.\n",
        "\n",
        "Imprime \"Usuario válido\" o \"Usuario inválido\" según corresponda."
      ],
      "metadata": {
        "id": "2mSAVboy8Q6m"
      }
    },
    {
      "cell_type": "code",
      "execution_count": 1,
      "metadata": {
        "id": "mOSniL8V5jR4",
        "outputId": "4e360ae5-8866-4fc2-9fc2-4ac61d17bb4d",
        "colab": {
          "base_uri": "https://localhost:8080/"
        }
      },
      "outputs": [
        {
          "output_type": "stream",
          "name": "stdout",
          "text": [
            "Usuario válido\n"
          ]
        }
      ],
      "source": [
        "# Your code starts here\n",
        "# user_example: usuario = \"A12b4\"\n",
        "\n",
        "usuario = \"A12b4\"\n",
        "\n",
        "longitud_correcta = (len(usuario) == 5)\n",
        "primera_mayuscula = ('A' <= usuario[0]  <= 'Z')\n",
        "ultima_es_numero  = ('0' <= usuario[-1] <= '9')\n",
        "\n",
        "if longitud_correcta and primera_mayuscula and ultima_es_numero:\n",
        "  print(\"Usuario válido\")\n",
        "else:\n",
        "  print(\"Usuario inválido\")\n",
        "\n",
        "# Your code ends here"
      ]
    },
    {
      "cell_type": "markdown",
      "source": [
        "**Pregunta 2: Nivel de Seguridad Numérico**\n",
        "\n",
        "Pide tres dígitos separados al usuario usando input(). Luego:\n",
        "\n",
        "* Imprime \"ALTO\" si los tres dígitos son diferentes.\n",
        "* Imprime \"MEDIO\" si solo dos son iguales.\n",
        "* Imprime \"BAJO\" si los tres son iguales."
      ],
      "metadata": {
        "id": "ZI1HrCRe8uU6"
      }
    },
    {
      "cell_type": "code",
      "source": [
        "# Your code starts here\n",
        "\n",
        "digitos_str = input(\"Ingrese tres dígitos separados por un espacio: \")\n",
        "digitos_lista = digitos_str.split()\n",
        "\n",
        "if len(digitos_lista) == 3:\n",
        "  d1 = digitos_lista[0]\n",
        "  d2 = digitos_lista[1]\n",
        "  d3 = digitos_lista[2]\n",
        "\n",
        "  if d1 != d2 and d1 != d3 and d2 != d3:\n",
        "    print(\"ALTO\")\n",
        "  elif (d1 == d2 and d1 != d3) or (d1 == d3 and d1 != d2) or (d2 == d3 and d2 != d1):\n",
        "    print(\"MEDIO\")\n",
        "  elif d1 == d2 and d1 == d3:\n",
        "    print(\"BAJO\")\n",
        "  else:\n",
        "    print(\"Entrada inválida\") # Por si acaso no ingresan exactamente tres \"dígitos\"\n",
        "else:\n",
        "  print(\"Debes ingresar exactamente tres dígitos separados por un espacio.\")\n",
        "\n",
        "# Your code ends here"
      ],
      "metadata": {
        "id": "hEUnfNCK88lF",
        "outputId": "fb891035-ce93-4f1c-dfc0-b4e3232d086a",
        "colab": {
          "base_uri": "https://localhost:8080/"
        }
      },
      "execution_count": 5,
      "outputs": [
        {
          "output_type": "stream",
          "name": "stdout",
          "text": [
            "Ingrese tres dígitos separados por un espacio: 5 5 5\n",
            "BAJO\n"
          ]
        }
      ]
    },
    {
      "cell_type": "markdown",
      "source": [
        "**Pregunta 3: Código de Acceso**\n",
        "\n",
        "Pide al usuario ingresar un número entero de tres dígitos.\n",
        "Verifica si la suma de sus tres dígitos es exactamente 10:\n",
        "\n",
        "* Si lo es, imprime \"Código válido\".\n",
        "* Si no, imprime \"Código inválido\"."
      ],
      "metadata": {
        "id": "DaAUaft_9DMe"
      }
    },
    {
      "cell_type": "code",
      "source": [
        "# Your code starts here\n",
        "\n",
        "codigo_str = input(\"Ingrese un número entero de tres dígitos: \")\n",
        "\n",
        "if len(codigo_str) == 3 and codigo_str.isdigit():\n",
        "  digito1 = int(codigo_str[0])\n",
        "  digito2 = int(codigo_str[1])\n",
        "  digito3 = int(codigo_str[2])\n",
        "  suma_digitos = digito1 + digito2 + digito3\n",
        "\n",
        "  if suma_digitos == 10:\n",
        "    print(\"Código válido\")\n",
        "  else:\n",
        "    print(\"Código inválido\")\n",
        "else:\n",
        "  print(\"Entrada inválida. Debe ingresar un número entero de tres dígitos.\")\n",
        "\n",
        "# Your code ends here"
      ],
      "metadata": {
        "id": "Xa15jei89HaU"
      },
      "execution_count": null,
      "outputs": []
    },
    {
      "cell_type": "markdown",
      "source": [
        "**Pregunta 4: Identificador de carácter**\n",
        "\n",
        "Pide al usuario un solo carácter y determina:\n",
        "\n",
        "* Si es vocal minúscula → \"Vocal minúscula\"\n",
        "* Si es vocal mayúscula → \"Vocal MAYÚSCULA\"\n",
        "* Si es número → \"Número\"\n",
        "* En cualquier otro caso → \"Símbolo especial\""
      ],
      "metadata": {
        "id": "zHCprzaP9fpB"
      }
    },
    {
      "cell_type": "code",
      "source": [
        "# Your code starts here\n",
        "\n",
        "caracter = input(\"Ingrese un solo carácter: \")\n",
        "\n",
        "if len(caracter) == 1:\n",
        "  if caracter in 'aeiou':\n",
        "    print(\"Vocal minúscula\")\n",
        "  elif caracter in 'AEIOU':\n",
        "    print(\"Vocal MAYÚSCULA\")\n",
        "  elif '0' <= caracter <= '9':\n",
        "    print(\"Número\")\n",
        "  else:\n",
        "    print(\"Símbolo especial\")\n",
        "else:\n",
        "  print(\"Debe ingresar un solo carácter.\")\n",
        "\n",
        "# Your code ends here"
      ],
      "metadata": {
        "id": "OvCpLVUT92uZ",
        "outputId": "54781228-1861-4466-982d-cbade25238bf",
        "colab": {
          "base_uri": "https://localhost:8080/"
        }
      },
      "execution_count": 19,
      "outputs": [
        {
          "output_type": "stream",
          "name": "stdout",
          "text": [
            "Ingrese un solo carácter: z\n",
            "Símbolo especial\n"
          ]
        }
      ]
    },
    {
      "cell_type": "markdown",
      "source": [
        "**Pregunta 5: Verificación cruzada de identidad**\n",
        "\n",
        "Un sistema de validación recibe los siguientes tres datos como entrada:\n",
        "\n",
        "\n",
        "1. Un código de 6 caracteres (ej. \"A1b2C3\")\n",
        "2. Un número de 3 cifras (ej. 528)\n",
        "3. Una letra (ej. \"b\")\n",
        "\n",
        "El programa debe:\n",
        "\n",
        "* Verificar si:\n",
        "\n",
        "  1. El primer carácter del código es una letra mayúscula,\n",
        "  2. El último carácter del código es un número,\n",
        "  3. La suma de los tres dígitos del número es par, y\n",
        "  4. La letra ingresada se encuentra dentro del código sin distinguir mayúsculas/minúsculas.\n",
        "\n",
        "* Si todas las condiciones se cumplen, imprimir: \"Identidad verificada\"\n",
        "\n",
        "* Si alguna no se cumple, imprimir: \"Acceso denegado\""
      ],
      "metadata": {
        "id": "FJyAxh0I-0N8"
      }
    },
    {
      "cell_type": "code",
      "source": [
        "# Your code starts here\n",
        "\n",
        "codigo = input(\"Ingrese un código de 6 caracteres: \")\n",
        "numero_str = input(\"Ingrese un número de 3 cifras: \")\n",
        "letra = input(\"Ingrese una letra: \")\n",
        "\n",
        "if len(codigo) == 6 and len(numero_str) == 3 and len(letra) == 1 and numero_str.isdigit() and letra.isalpha():\n",
        "  digito1 = int(numero_str[0])\n",
        "  digito2 = int(numero_str[1])\n",
        "  digito3 = int(numero_str[2])\n",
        "\n",
        "  codigo_letra_mayuscula = ( 'A' <= codigo[0] <= 'Z' )\n",
        "  codigo_ultimo_caracter = ( '0' <= codigo[-1] <= '9' )\n",
        "  suma_digitos = digito1 + digito2 + digito3\n",
        "  suma_es_par = (suma_digitos % 2 == 0)\n",
        "  letra_en_codigo = (letra.lower() in codigo.lower())\n",
        "\n",
        "  if codigo_letra_mayuscula and codigo_ultimo_caracter and  suma_es_par and letra_en_codigo:\n",
        "    print(\"Identidad verificada\")\n",
        "  else:\n",
        "    print(\"Acceso denegado\")\n",
        "else:\n",
        "  print(\"Error en el formato de los datos ingresados.\")\n",
        "\n",
        "# Your code ends here"
      ],
      "metadata": {
        "id": "Z16sSPRc_TDH",
        "outputId": "be11be80-f11e-4121-9ce4-3d64867c9b8c",
        "colab": {
          "base_uri": "https://localhost:8080/"
        }
      },
      "execution_count": 18,
      "outputs": [
        {
          "output_type": "stream",
          "name": "stdout",
          "text": [
            "Ingrese un código de 6 caracteres: Abcde5\n",
            "Ingrese un número de 3 cifras: 246\n",
            "Ingrese una letra: c\n",
            "Identidad verificada\n"
          ]
        }
      ]
    },
    {
      "cell_type": "markdown",
      "source": [
        "---\n",
        "\n",
        "### Gracias por completar este examen!\n",
        "\n",
        "---\n"
      ],
      "metadata": {
        "id": "vWNdqa91-NiX"
      }
    }
  ]
}