{
  "nbformat": 4,
  "nbformat_minor": 0,
  "metadata": {
    "colab": {
      "provenance": []
    },
    "kernelspec": {
      "name": "python3",
      "display_name": "Python 3"
    },
    "language_info": {
      "name": "python"
    }
  },
  "cells": [
    {
      "cell_type": "markdown",
      "source": [
        "<img src=\"https://posgrado.utec.edu.pe/sites/default/files/2023-08/Testimonial-home-2.jpg\" alt=\"HTML5 Icon\" width=\"900\" height=\"250\" >\n"
      ],
      "metadata": {
        "id": "cqadFmlrgAXp"
      }
    },
    {
      "cell_type": "markdown",
      "source": [
        "# **Ejercicios - Variables y Expresiones**"
      ],
      "metadata": {
        "id": "tW1-ULBmb0Cm"
      }
    },
    {
      "cell_type": "code",
      "source": [
        "!git clone https://github.com/JordanDSIA/Python-Programming101.git"
      ],
      "metadata": {
        "id": "crHMvWlWI3yE"
      },
      "execution_count": null,
      "outputs": []
    },
    {
      "cell_type": "code",
      "source": [
        "import os\n",
        "os.chdir('/content/Python-Programming101/programacion-101/modulo1_fundamentos/tareas')"
      ],
      "metadata": {
        "id": "Q_nVWfPeJCPE"
      },
      "execution_count": null,
      "outputs": []
    },
    {
      "cell_type": "code",
      "source": [
        "!git status"
      ],
      "metadata": {
        "id": "pO7TKYiYLQN3"
      },
      "execution_count": null,
      "outputs": []
    },
    {
      "cell_type": "code",
      "source": [
        "\"Hola Mundo\""
      ],
      "metadata": {
        "id": "J4xG7GA4NzJR"
      },
      "execution_count": null,
      "outputs": []
    },
    {
      "cell_type": "markdown",
      "source": [
        "**Ejercicio 1: Calculadora de ahorro semanal**\n",
        "\n",
        "Pide al usuario cuánto dinero ahorra cada día de lunes a domingo. Al final, muestra cuánto ahorró en total esa semana y cuánto tendría en un mes si repite el mismo patrón cada semana.\n",
        "\n",
        "- Pista: Usar 7 variables (ahorro_lunes, ahorro_martes, …), input(), float(), +, *."
      ],
      "metadata": {
        "id": "9igzfvIKqNGr"
      }
    },
    {
      "cell_type": "code",
      "source": [
        "## INICIO DE CÓDIGO\n",
        "print(\"*****CALCULADORA DE AHORRO SEMANAL*****\")\n",
        "print(\"Buenas tardes, ingresar cuanto ahorras de Lunes a Domingo\")\n",
        "ahorro_lunes = float(input(\"\\tAhorro Lunes: \"))\n",
        "ahorro_martes = float(input(\"\\tAhorro Martes: \"))\n",
        "ahorro_miercoles = float(input(\"\\tAhorro Miércoles: \"))\n",
        "ahorro_jueves = float(input(\"\\tAhorro Jueves: \"))\n",
        "ahorro_viernes = float(input(\"\\tAhorro Viernes: \"))\n",
        "ahorro_sabado = float(input(\"\\tAhorro Sábado: \"))\n",
        "ahorro_domingo = float(input(\"\\tAhorro Domingo: \"))\n",
        "Ahorro_semanal = ahorro_lunes + ahorro_martes + ahorro_miercoles + ahorro_jueves + ahorro_viernes + ahorro_sabado + ahorro_domingo\n",
        "Ahorro_mensual = Ahorro_semanal*4\n",
        "resultado = (\n",
        "    f\"El usuario Ahorro en la semana: {Ahorro_semanal} soles\\n\"\n",
        "    f\"El usuario Ahorro en el mes: {Ahorro_mensual} soles\"\n",
        ")\n",
        "print(resultado)\n",
        "## FIN DE CÓDIGO"
      ],
      "metadata": {
        "id": "BX-O1-4wqWF9",
        "outputId": "ad164ae1-4c32-4db0-9dbc-f37292f18daa",
        "colab": {
          "base_uri": "https://localhost:8080/"
        }
      },
      "execution_count": null,
      "outputs": [
        {
          "output_type": "stream",
          "name": "stdout",
          "text": [
            "*****Calculadora de Ahorro Semanal*****\n",
            "Buenas tardes, ingresar cuanto ahorras de Lunes a Domingo\n",
            "\tAhorro Lunes: 10\n",
            "\tAhorro Martes: 20\n",
            "\tAhorro Miércoles: 30\n",
            "\tAhorro Jueves: 40\n",
            "\tAhorro Viernes: 50\n",
            "\tAhorro Sábado: 60\n",
            "\tAhorro Domingo2: 70\n",
            "El usuario Ahorro en la semana: 280.0 soles\n",
            "El usuario Ahorro en el mes: 1120.0 soles\n"
          ]
        }
      ]
    },
    {
      "cell_type": "markdown",
      "source": [
        "**Ejercicio 2: Conversor de segundos**\n",
        "\n",
        "Solicita una cantidad total de segundos y muestra cuántos minutos y segundos representa.\n",
        "\n",
        "Ejemplo: 130 segundos → 2 minutos y 10 segundos\n",
        "* Pista: Usar // y %\n"
      ],
      "metadata": {
        "id": "oLaw6UggqV3E"
      }
    },
    {
      "cell_type": "code",
      "source": [
        "## INICIO DE CÓDIGO\n",
        "print(\"*****CONVERSOR DE SEGUNDOS*****\")\n",
        "cantidad_segundos = float(input(\"Ingresar cantidad de segundos: \"))\n",
        "minutos = cantidad_segundos // 60\n",
        "segundos = cantidad_segundos % 60\n",
        "result = f\"{cantidad_segundos} representa: {minutos} minutos y {segundos} segundos\"\n",
        "print(result)\n",
        "## FIN DE CÓDIGO"
      ],
      "metadata": {
        "id": "bAuxBROrqaWb",
        "outputId": "2a530fbc-3dab-4564-f346-155682f8c868",
        "colab": {
          "base_uri": "https://localhost:8080/"
        }
      },
      "execution_count": null,
      "outputs": [
        {
          "output_type": "stream",
          "name": "stdout",
          "text": [
            "*****Conversor de segundos*****\n",
            "Ingresar cantidad de segundos: 70\n",
            "70.0 representa: 1.0 minutos y 10.0 segundos\n"
          ]
        }
      ]
    },
    {
      "cell_type": "markdown",
      "source": [
        "**Ejercicio 3: Puntuación de juego**\n",
        "\n",
        "Un videojuego otorga:\n",
        "\n",
        "* 10 puntos por cada estrella recolectada,\n",
        "* 50 puntos por cada gema recolectada, y\n",
        "* 1 punto por cada segundo que el jugador se mantuvo vivo.\n",
        "\n",
        "Pide al usuario las tres cantidades y muestra su puntaje total.\n",
        "\n",
        "* Pista: total = estrellas*10 + gemas*50 + tiempo"
      ],
      "metadata": {
        "id": "dK4EIGoKrW2B"
      }
    },
    {
      "cell_type": "code",
      "source": [
        "## INICIO DE CÓDIGO\n",
        "print(\"*****PUNTUACIÓN DE JUEGO*****\")\n",
        "estrellas = float(input(\"Ingresar cantidad de estrellas recolectadas: \"))\n",
        "gemas = float(input(\"Ingresar cantidad de gemas recolectadas: \"))\n",
        "tiempo = float(input(\"Ingresar cantidad de segundos que estuvo vivo: \"))\n",
        "puntaje = estrellas*10 + gemas*50 + tiempo\n",
        "print(f\"Puntaje Total: {puntaje}\")\n",
        "## FIN DE CÓDIGO"
      ],
      "metadata": {
        "id": "jkBQHQF1rlUY",
        "outputId": "c7d44133-e6d0-43e3-a7eb-288d575259df",
        "colab": {
          "base_uri": "https://localhost:8080/"
        }
      },
      "execution_count": null,
      "outputs": [
        {
          "output_type": "stream",
          "name": "stdout",
          "text": [
            "*****PUNTUACIÓN DE JUEGO*****\n",
            "Ingresar cantidad de estrellas recolectadas: 3\n",
            "Ingresar cantidad de gemas recolectadas: 2\n",
            "Ingresar cantidad de segundos que estuvo vivo: 1\n",
            "Puntaje Total: 131.0\n"
          ]
        }
      ]
    },
    {
      "cell_type": "markdown",
      "source": [
        "**Ejercicio 4: Conversor de monedas con tasa personalizada**\n",
        "\n",
        "Solicita al usuario:\n",
        "\n",
        "* El monto en soles\n",
        "* La tasa de cambio a dólares\n",
        "\n",
        "Muestra el equivalente en dólares, redondeado a 2 decimales.\n",
        "\n",
        "* Pista: Usar float(), *, round(valor, 2)"
      ],
      "metadata": {
        "id": "wW9Edl_8rlt1"
      }
    },
    {
      "cell_type": "code",
      "source": [
        "## INICIO DE CÓDIGO\n",
        "print(\"*****CONVERSOR DE MONEDAS CON TASA PERSONALIZADA*****\\n\")\n",
        "monto_soles = float(input(\"Ingresa el monto en soles:\\t\"))\n",
        "tasa_cambio = float(input(\"Ingresa la tasa de cambio:\\t\"))\n",
        "\n",
        "monto_dolares = round(monto_soles*tasa_cambio , 2)\n",
        "print(f\"\\nEl equivalente en dólares es:\\t {monto_dolares}\")\n",
        "\n",
        "## FIN DE CÓDIGO"
      ],
      "metadata": {
        "id": "fTCsCohHrmQW",
        "outputId": "e39e718a-accb-4238-cf1c-958b1ff45bfa",
        "colab": {
          "base_uri": "https://localhost:8080/"
        }
      },
      "execution_count": 23,
      "outputs": [
        {
          "output_type": "stream",
          "name": "stdout",
          "text": [
            "*****CONVERSOR DE MONEDAS CON TASA PERSONALIZADA*****\n",
            "\n",
            "Ingresa el monto en soles:\t50.78945\n",
            "Ingresa la tasa de cambio:\t3.75896\n",
            "\n",
            "El equivalente en dólares es:\t 190.92\n"
          ]
        }
      ]
    },
    {
      "cell_type": "markdown",
      "source": [
        "**Ejercicio 5: Costo compartido de viaje**\n",
        "\n",
        "Tres amigos hacen un viaje y pagan distintos montos:\n",
        "\n",
        "* Ana pagó gasolina,\n",
        "* Luis pagó peajes,\n",
        "* Carla pagó comida.\n",
        "\n",
        "Pide los tres montos, calcula el total y cuánto debería aportar cada uno para que paguen igual.\n",
        "\n",
        "* Pista: Calcular el total y luego dividirlo entre 3"
      ],
      "metadata": {
        "id": "JYUyJAidrmnT"
      }
    },
    {
      "cell_type": "code",
      "source": [
        "## INICIO DE CÓDIGO\n",
        "print(\"*****COSTO COMPARTIDO DE VIAJE*****\\n\")\n",
        "monto_gasolina = float(input(\"Ingresa el monto de la gasolina:\\t\"))\n",
        "monto_peajes = float(input(\"Ingresa el monto de los peajes:\\t\"))\n",
        "monto_comida = float(input(\"Ingresa el monto de la comida:\\t\"))\n",
        "\n",
        "monto_aporte = ( monto_gasolina + monto_peajes + monto_comida )/3\n",
        "\n",
        "print(f\"\\nA cada uno le corresponde:\\t {monto_aporte}\")\n",
        "\n",
        "## FIN DE CÓDIGO"
      ],
      "metadata": {
        "id": "SGjH-m_mrom9",
        "outputId": "a302e749-ac11-488f-f85d-3c658bee77a1",
        "colab": {
          "base_uri": "https://localhost:8080/"
        }
      },
      "execution_count": 17,
      "outputs": [
        {
          "output_type": "stream",
          "name": "stdout",
          "text": [
            "*****COSTO COMPARTIDO DE VIAJE*****\n",
            "\n",
            "Ingresa el monto de la gasolina:\t100\n",
            "Ingresa el monto de los peajes:\t200\n",
            "Ingresa el monto de la comida:\t300\n",
            "\n",
            "A cada uno le corresponde:\t 200.0\n"
          ]
        }
      ]
    },
    {
      "cell_type": "markdown",
      "source": [
        "**Ejercicio 6: Tiempo total de estudio**\n",
        "\n",
        "Solicita al usuario cuántas horas estudió en 4 materias distintas.\n",
        "\n",
        "Muestra el total de horas de estudio en la semana y el promedio diario (considerando 7 días).\n"
      ],
      "metadata": {
        "id": "skhBiCaCro5l"
      }
    },
    {
      "cell_type": "code",
      "source": [
        "## INICIO DE CÓDIGO\n",
        "print(\"*****TIEMPO TOTAL DE ESTUDIO*****\\n\")\n",
        "materia_1 = float(input(\"Ingresa cuantas horas estudio dedico a la materia_1:\\t\"))\n",
        "materia_2 = float(input(\"Ingresa cuantas horas estudio dedico a la materia_2:\\t\"))\n",
        "materia_3 = float(input(\"Ingresa cuantas horas estudio dedico a la materia_3:\\t\"))\n",
        "materia_4 = float(input(\"Ingresa cuantas horas estudio dedico a la materia_4:\\t\"))\n",
        "\n",
        "total_horas = materia_1 + materia_2 + materia_3 + materia_4\n",
        "promedio_diario = round(total_horas/7, 2)\n",
        "\n",
        "print(\n",
        "    f\"\\nEl total de horas de estudio es: {total_horas} \\n\"\n",
        "    f\"El promedio diario de horas de estudio es: {promedio_diario} \"\n",
        ")\n",
        "\n",
        "## FIN DE CÓDIGO"
      ],
      "metadata": {
        "id": "HnFuV1RPrqXQ",
        "outputId": "791f645a-fb1a-458e-dea0-44a9ce6e87a5",
        "colab": {
          "base_uri": "https://localhost:8080/"
        }
      },
      "execution_count": 26,
      "outputs": [
        {
          "output_type": "stream",
          "name": "stdout",
          "text": [
            "*****TIEMPO TOTAL DE ESTUDIO*****\n",
            "\n",
            "Ingresa cuantas horas estudio dedico a la materia_1:\t100\n",
            "Ingresa cuantas horas estudio dedico a la materia_2:\t200\n",
            "Ingresa cuantas horas estudio dedico a la materia_3:\t300\n",
            "Ingresa cuantas horas estudio dedico a la materia_4:\t400\n",
            "\n",
            "El total de horas de estudio es: 1000.0 \n",
            "El promedio diario de horas de estudio es: 142.86 \n"
          ]
        }
      ]
    },
    {
      "cell_type": "markdown",
      "source": [
        "**Ejercicio 7: Nombre codificado (nivel string)**\n",
        "\n",
        "Pide al usuario su nombre completo y muestra:\n",
        "\n",
        "* La cantidad de caracteres (con len())\n",
        "* Su nombre todo en mayúsculas (.upper())\n",
        "* Su nombre todo en minúsculas (.lower())\n"
      ],
      "metadata": {
        "id": "rNjtOXKWrqs5"
      }
    },
    {
      "cell_type": "code",
      "source": [
        "## INICIO DE CÓDIGO\n",
        "print(\"*****TIEMPO TOTAL DE ESTUDIO*****\\n\")\n",
        "materia_1 = float(input(\"Ingresa cuantas horas estudio dedico a la materia_1:\\t\"))\n",
        "## FIN DE CÓDIGO"
      ],
      "metadata": {
        "id": "GnGm74GXrsL0"
      },
      "execution_count": null,
      "outputs": []
    },
    {
      "cell_type": "markdown",
      "source": [
        "**Ejercicio 8: Frase repetida**\n",
        "\n",
        "Pide una frase y un número n, y muestra la frase repetida n veces, cada una en una línea.\n",
        "\n",
        "* Pista: print(frase * n)  # y/o con '\\n'"
      ],
      "metadata": {
        "id": "lrhPyjmWrse2"
      }
    },
    {
      "cell_type": "code",
      "source": [
        "## INICIO DE CÓDIGO\n",
        "\n",
        "## FIN DE CÓDIGO"
      ],
      "metadata": {
        "id": "Vzef3t_Lru0p"
      },
      "execution_count": null,
      "outputs": []
    },
    {
      "cell_type": "markdown",
      "source": [
        "**Ejercicio 9: División de cuentas**\n",
        "\n",
        "Un grupo de amigos pide una cuenta por S/ 250.\n",
        "Pide al usuario cuántas personas están en el grupo y muestra cuánto debe pagar cada uno.\n",
        "\n",
        "Asegúrate de redondear el resultado a 2 decimales.\n",
        "\n",
        "* Pista: Usa la funcion round()"
      ],
      "metadata": {
        "id": "5NpbbGR_rvNH"
      }
    },
    {
      "cell_type": "code",
      "source": [
        "## INICIO DE CÓDIGO\n",
        "\n",
        "## FIN DE CÓDIGO"
      ],
      "metadata": {
        "id": "uMxuVCUVrvj6"
      },
      "execution_count": null,
      "outputs": []
    },
    {
      "cell_type": "markdown",
      "source": [
        "**Ejercicio 10: Calendario de clases**\n",
        "\n",
        "Pide cuántas horas se estudia en promedio por día, y cuántos días tiene el mes.\n",
        "\n",
        "Calcula cuántas horas de estudio habrá ese mes."
      ],
      "metadata": {
        "id": "p3PYp0l4pxuI"
      }
    },
    {
      "cell_type": "code",
      "source": [
        "## INICIO DE CÓDIGO\n",
        "\n",
        "## FIN DE CÓDIGO"
      ],
      "metadata": {
        "id": "y1bXFffhrxk2"
      },
      "execution_count": null,
      "outputs": []
    },
    {
      "cell_type": "markdown",
      "source": [
        "---\n",
        "\n",
        "# Gracias por completar este laboratorio!\n",
        "\n",
        "---\n"
      ],
      "metadata": {
        "id": "8_ZocYoOrx3Z"
      }
    }
  ]
}